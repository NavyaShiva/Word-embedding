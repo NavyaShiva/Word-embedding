{
  "nbformat": 4,
  "nbformat_minor": 0,
  "metadata": {
    "kernelspec": {
      "display_name": "Python 3",
      "language": "python",
      "name": "python3"
    },
    "language_info": {
      "codemirror_mode": {
        "name": "ipython",
        "version": 3
      },
      "file_extension": ".py",
      "mimetype": "text/x-python",
      "name": "python",
      "nbconvert_exporter": "python",
      "pygments_lexer": "ipython3",
      "version": "3.7.4"
    },
    "colab": {
      "name": "Text analytics Assignment 3_with functions.ipynb",
      "provenance": [],
      "collapsed_sections": [],
      "toc_visible": true,
      "include_colab_link": true
    }
  },
  "cells": [
    {
      "cell_type": "markdown",
      "metadata": {
        "id": "view-in-github",
        "colab_type": "text"
      },
      "source": [
        "<a href=\"https://colab.research.google.com/github/ShivaNavya/Word-embedding/blob/master/Text_analytics_Assignment_3_with_functions.ipynb\" target=\"_parent\"><img src=\"https://colab.research.google.com/assets/colab-badge.svg\" alt=\"Open In Colab\"/></a>"
      ]
    },
    {
      "cell_type": "code",
      "metadata": {
        "id": "KGERNDPxL127",
        "colab_type": "code",
        "outputId": "3e8fdcec-0b01-4806-e06b-aa7805c48573",
        "colab": {
          "base_uri": "https://localhost:8080/",
          "height": 190
        }
      },
      "source": [
        "import nltk\n",
        "from nltk.tokenize import word_tokenize\n",
        "from nltk.probability import FreqDist\n",
        "import matplotlib.pyplot as plt\n",
        "nltk.download('stopwords')\n",
        "from nltk.corpus import stopwords\n",
        "from nltk.stem import PorterStemmer\n",
        "from nltk.stem import WordNetLemmatizer\n",
        "nltk.download('wordnet')\n",
        "from sklearn.feature_extraction.text import CountVectorizer\n",
        "from nltk.tokenize import RegexpTokenizer\n",
        "import string\n",
        "import re\n",
        "nltk.download('punkt')\n",
        "nltk.download('averaged_perceptron_tagger')\n",
        "import os\n",
        "import pandas as pd\n",
        "import numpy as np\n",
        "from sklearn.feature_extraction.text import TfidfVectorizer"
      ],
      "execution_count": 95,
      "outputs": [
        {
          "output_type": "stream",
          "text": [
            "[nltk_data] Downloading package stopwords to /root/nltk_data...\n",
            "[nltk_data]   Package stopwords is already up-to-date!\n",
            "[nltk_data] Downloading package wordnet to /root/nltk_data...\n",
            "[nltk_data]   Package wordnet is already up-to-date!\n",
            "[nltk_data] Downloading package punkt to /root/nltk_data...\n",
            "[nltk_data]   Package punkt is already up-to-date!\n",
            "[nltk_data] Downloading package averaged_perceptron_tagger to\n",
            "[nltk_data]     /root/nltk_data...\n",
            "[nltk_data]   Package averaged_perceptron_tagger is already up-to-\n",
            "[nltk_data]       date!\n"
          ],
          "name": "stdout"
        }
      ]
    },
    {
      "cell_type": "code",
      "metadata": {
        "id": "EcUHX1pXTJJS",
        "colab_type": "code",
        "outputId": "0db369a8-222c-4515-b09c-8fadf435ae23",
        "colab": {
          "base_uri": "https://localhost:8080/",
          "height": 34
        }
      },
      "source": [
        "from google.colab import drive\n",
        "drive.mount('/content/drive')"
      ],
      "execution_count": 15,
      "outputs": [
        {
          "output_type": "stream",
          "text": [
            "Drive already mounted at /content/drive; to attempt to forcibly remount, call drive.mount(\"/content/drive\", force_remount=True).\n"
          ],
          "name": "stdout"
        }
      ]
    },
    {
      "cell_type": "code",
      "metadata": {
        "id": "aOU7JtIBL13W",
        "colab_type": "code",
        "colab": {}
      },
      "source": [
        "os.path.abspath(os.getcwd())\n",
        "os.chdir('/content/drive/My Drive/Colab Notebooks/')"
      ],
      "execution_count": 0,
      "outputs": []
    },
    {
      "cell_type": "markdown",
      "metadata": {
        "id": "jNbw0zPCKaVC",
        "colab_type": "text"
      },
      "source": [
        "**Document cleaning**"
      ]
    },
    {
      "cell_type": "code",
      "metadata": {
        "id": "QBECflvDL13Z",
        "colab_type": "code",
        "colab": {}
      },
      "source": [
        "def fileclean(file):\n",
        "        file = open(file, encoding=\"utf8\")\n",
        "        Lines = file.readlines()\n",
        "\n",
        "\n",
        "        #splitting the text file into lines\n",
        "        words=[]\n",
        "        for line in Lines:\n",
        "            a=line.split()\n",
        "            words.append(a)\n",
        "\n",
        "            \n",
        "        #Unlist the nested lists\n",
        "        flat_list=[]\n",
        "        for sublist in words:\n",
        "            for item in sublist:\n",
        "                flat_list.append(item)\n",
        "        #converting words to lowercase\n",
        "        flat_list = [x.lower() for x in UIC]\n",
        "\n",
        "\n",
        "        #remove stopwords         \n",
        "        filtered_words = [word for word in flat_list if word not in stopwords.words('english')]\n",
        "\n",
        "        #remove the punctuation\n",
        "        #source: https://www.tutorialspoint.com/python/string_translate.htm\n",
        "\n",
        "        list_withoutpunct=[]\n",
        "        b=[]\n",
        "        for item in filtered_words:\n",
        "            b=item.translate(item.maketrans('', '', string.punctuation))\n",
        "            list_withoutpunct.append(b)\n",
        "\n",
        "        # print(str_withoutpunct)\n",
        "\n",
        "        #remove the numbers\n",
        "        numbers=\"1234567890\"\n",
        "        list_withoutnum=[]\n",
        "        c=[]\n",
        "        for item in list_withoutpunct:\n",
        "            c=item.translate(item.maketrans('', '', numbers))\n",
        "            list_withoutnum.append(c)\n",
        "        # print(list_withoutnum)\n",
        "\n",
        "\n",
        "        #remove the whitespace\n",
        "        space= \" \"\n",
        "        blank = \"\"\n",
        "        list_withoutspace=[]\n",
        "        d=[]\n",
        "        for item in list_withoutnum:\n",
        "            if item == space:\n",
        "                list_withoutnum.remove(item)\n",
        "            if item == blank:\n",
        "                list_withoutnum.remove(item)\n",
        "\n",
        "\n",
        "        #removing words with less than 3 length and finding unique words\n",
        "        dict=[]\n",
        "        for word in list_withoutnum:\n",
        "            if len(word)>3:\n",
        "              dict.append(word)\n",
        "\n",
        "        uniqueWords = [] \n",
        "        for i in dict:\n",
        "            if not i in uniqueWords:\n",
        "                    uniqueWords.append(i);    \n",
        "\n",
        "        #using isalpha to remove the symbols if any\n",
        "        list_withoutisalpha=[]\n",
        "\n",
        "        for item in uniqueWords:\n",
        "          if item.isalpha()==True:\n",
        "            list_withoutisalpha.append(item)\n",
        "        #print(list_withoutisalpha)\n",
        "\n",
        "        \n",
        "\n",
        "        return (list_withoutisalpha)\n",
        "\n",
        "\n"
      ],
      "execution_count": 0,
      "outputs": []
    },
    {
      "cell_type": "code",
      "metadata": {
        "id": "wFcxznHzYLtR",
        "colab_type": "code",
        "colab": {}
      },
      "source": [
        "#cleaning of the files\n",
        "\n",
        "UIC = fileclean(\"UIC.txt\")\n",
        "Nytimes=fileclean(\"NYtimes.txt\")\n",
        "ESPN = fileclean(\"ESPN.txt\")\n"
      ],
      "execution_count": 0,
      "outputs": []
    },
    {
      "cell_type": "code",
      "metadata": {
        "id": "c235Uw04L13r",
        "colab_type": "code",
        "colab": {}
      },
      "source": [
        "#Appply POS tagging to each document\n",
        "\n",
        "UIC_tag=nltk.pos_tag(UIC)\n",
        "Nytimes_tag=nltk.pos_tag(Nytimes)\n",
        "ESPN_tag=nltk.pos_tag(ESPN)\n"
      ],
      "execution_count": 0,
      "outputs": []
    },
    {
      "cell_type": "markdown",
      "metadata": {
        "id": "jkhxZI_aLvYj",
        "colab_type": "text"
      },
      "source": [
        "**Getting the list of pos tags and corresponding frequency**"
      ]
    },
    {
      "cell_type": "code",
      "metadata": {
        "id": "P7fm1JNFda01",
        "colab_type": "code",
        "outputId": "72c41399-60d4-49be-fb47-81191912a299",
        "colab": {
          "base_uri": "https://localhost:8080/",
          "height": 34
        }
      },
      "source": [
        "\n",
        "\n",
        "sample=[('Rankings', 'NNP'),\n",
        " ('statistics', 'NNS'),\n",
        " ('University', 'NNP'),\n",
        " ('rankings', 'VBP'),\n",
        " ('National', 'NNP')]\n",
        "list1=[]\n",
        "# a1=sample[3][1]\n",
        "# a1\n",
        "# # list1.append(a1)\n",
        "\n",
        "\n",
        "def dict_pos(postagfile):\n",
        "  list_ofpos=[]\n",
        "  for i in range(len(postagfile)):\n",
        "      var=postagfile[i][1]\n",
        "      list_ofpos.append(var) \n",
        "  return list_ofpos\n",
        "\n",
        "# UIC_postag=dict_pos(UIC_tag)\n",
        "# Nytimes_postag=dict_pos(Nytimes_tag)\n",
        "# ESPN_postag=dict_pos(ESPN_tag)\n",
        "# var1=sample[1][1]\n",
        "# var2=sample[2][1]\n",
        "# aa=list1.append(var1)\n",
        "s=dict_pos(sample)\n",
        "print(s)\n"
      ],
      "execution_count": 0,
      "outputs": [
        {
          "output_type": "stream",
          "text": [
            "['NNP', 'NNS', 'NNP', 'VBP', 'NNP']\n"
          ],
          "name": "stdout"
        }
      ]
    },
    {
      "cell_type": "markdown",
      "metadata": {
        "id": "QdXjtxRqRf86",
        "colab_type": "text"
      },
      "source": [
        "**Getting the counts of POS tags for the documents**"
      ]
    },
    {
      "cell_type": "code",
      "metadata": {
        "id": "bLBQkL54Qn1i",
        "colab_type": "code",
        "colab": {}
      },
      "source": [
        "def dict_pos(postagfile):\n",
        "  list_ofpos=[]\n",
        "  for i in range(len(postagfile)):\n",
        "      var=postagfile[i][1]\n",
        "      list_ofpos.append(var) \n",
        "  return list_ofpos\n",
        "\n"
      ],
      "execution_count": 0,
      "outputs": []
    },
    {
      "cell_type": "code",
      "metadata": {
        "id": "oScL733IQGxQ",
        "colab_type": "code",
        "colab": {}
      },
      "source": [
        "UIC"
      ],
      "execution_count": 0,
      "outputs": []
    },
    {
      "cell_type": "code",
      "metadata": {
        "id": "eWY0HyQ2WOxj",
        "colab_type": "code",
        "colab": {}
      },
      "source": [
        "#converting the tuple list to dictionary \n",
        "\n",
        "#UIC_dict=dict(UIC_tag)\n",
        "UIC_dict=dict_pos(UIC_tag)\n",
        "Nytimes_dict=dict_pos(Nytimes_tag)\n",
        "Espn_dict=dict_pos(ESPN_tag)"
      ],
      "execution_count": 0,
      "outputs": []
    },
    {
      "cell_type": "markdown",
      "metadata": {
        "id": "LcWnG-O4WQXc",
        "colab_type": "text"
      },
      "source": [
        "**Getting the count of POS tags**"
      ]
    },
    {
      "cell_type": "code",
      "metadata": {
        "id": "3TvYIfeIUKZ7",
        "colab_type": "code",
        "colab": {}
      },
      "source": [
        "def count_POS(filename_poslist):\n",
        "  dataframe = pd.DataFrame(np.array(filename_poslist),columns=list(\"a\"))\n",
        "  dataframe = dataframe.groupby(['a']).size().reset_index(name='count')\n",
        "  return dataframe\n"
      ],
      "execution_count": 0,
      "outputs": []
    },
    {
      "cell_type": "code",
      "metadata": {
        "id": "ZVrGvRn-VcLh",
        "colab_type": "code",
        "colab": {}
      },
      "source": [
        "UIC_pos_df = count_POS(UIC_dict)\n",
        "Nytimes_pos_df = count_POS(Nytimes_dict)\n",
        "Espn_pos_df = count_(Espn_dict)"
      ],
      "execution_count": 0,
      "outputs": []
    },
    {
      "cell_type": "code",
      "metadata": {
        "id": "VZE29lzKXs6z",
        "colab_type": "code",
        "outputId": "4a3599ce-6b11-43e6-b147-1f7c43caf748",
        "colab": {
          "base_uri": "https://localhost:8080/",
          "height": 140
        }
      },
      "source": [
        "list1=UIC_pos_df.iloc[:,0].tolist()\n",
        "list2=Nytimes_pos_df.iloc[:,0].tolist()\n",
        "list3=Espn_pos_df.iloc[:,0].tolist()\n",
        "\n",
        "uniq = list(set(list1+list2+list3))\n",
        "\n",
        "df1 = pd.DataFrame(columns = uniq)\n",
        "df2 = pd.DataFrame(0,index = np.arange(3),columns=uniq)\n"
      ],
      "execution_count": 0,
      "outputs": [
        {
          "output_type": "execute_result",
          "data": {
            "text/html": [
              "<div>\n",
              "<style scoped>\n",
              "    .dataframe tbody tr th:only-of-type {\n",
              "        vertical-align: middle;\n",
              "    }\n",
              "\n",
              "    .dataframe tbody tr th {\n",
              "        vertical-align: top;\n",
              "    }\n",
              "\n",
              "    .dataframe thead th {\n",
              "        text-align: right;\n",
              "    }\n",
              "</style>\n",
              "<table border=\"1\" class=\"dataframe\">\n",
              "  <thead>\n",
              "    <tr style=\"text-align: right;\">\n",
              "      <th></th>\n",
              "      <th>JJ</th>\n",
              "      <th>NNP</th>\n",
              "      <th>WRB</th>\n",
              "      <th>TO</th>\n",
              "      <th>IN</th>\n",
              "      <th>VBN</th>\n",
              "      <th>RP</th>\n",
              "      <th>VBP</th>\n",
              "      <th>NNPS</th>\n",
              "      <th>JJS</th>\n",
              "      <th>NNS</th>\n",
              "      <th>JJR</th>\n",
              "      <th>RB</th>\n",
              "      <th>VB</th>\n",
              "      <th>MD</th>\n",
              "      <th>CD</th>\n",
              "      <th>CC</th>\n",
              "      <th>VBD</th>\n",
              "      <th>WP</th>\n",
              "      <th>PRP</th>\n",
              "      <th>PRP$</th>\n",
              "      <th>VBZ</th>\n",
              "      <th>FW</th>\n",
              "      <th>RBR</th>\n",
              "      <th>EX</th>\n",
              "      <th>DT</th>\n",
              "      <th>VBG</th>\n",
              "      <th>NN</th>\n",
              "    </tr>\n",
              "  </thead>\n",
              "  <tbody>\n",
              "    <tr>\n",
              "      <th>0</th>\n",
              "      <td>0</td>\n",
              "      <td>0</td>\n",
              "      <td>0</td>\n",
              "      <td>0</td>\n",
              "      <td>0</td>\n",
              "      <td>0</td>\n",
              "      <td>0</td>\n",
              "      <td>0</td>\n",
              "      <td>0</td>\n",
              "      <td>0</td>\n",
              "      <td>0</td>\n",
              "      <td>0</td>\n",
              "      <td>0</td>\n",
              "      <td>0</td>\n",
              "      <td>0</td>\n",
              "      <td>0</td>\n",
              "      <td>0</td>\n",
              "      <td>0</td>\n",
              "      <td>0</td>\n",
              "      <td>0</td>\n",
              "      <td>0</td>\n",
              "      <td>0</td>\n",
              "      <td>0</td>\n",
              "      <td>0</td>\n",
              "      <td>0</td>\n",
              "      <td>0</td>\n",
              "      <td>0</td>\n",
              "      <td>0</td>\n",
              "    </tr>\n",
              "    <tr>\n",
              "      <th>1</th>\n",
              "      <td>0</td>\n",
              "      <td>0</td>\n",
              "      <td>0</td>\n",
              "      <td>0</td>\n",
              "      <td>0</td>\n",
              "      <td>0</td>\n",
              "      <td>0</td>\n",
              "      <td>0</td>\n",
              "      <td>0</td>\n",
              "      <td>0</td>\n",
              "      <td>0</td>\n",
              "      <td>0</td>\n",
              "      <td>0</td>\n",
              "      <td>0</td>\n",
              "      <td>0</td>\n",
              "      <td>0</td>\n",
              "      <td>0</td>\n",
              "      <td>0</td>\n",
              "      <td>0</td>\n",
              "      <td>0</td>\n",
              "      <td>0</td>\n",
              "      <td>0</td>\n",
              "      <td>0</td>\n",
              "      <td>0</td>\n",
              "      <td>0</td>\n",
              "      <td>0</td>\n",
              "      <td>0</td>\n",
              "      <td>0</td>\n",
              "    </tr>\n",
              "    <tr>\n",
              "      <th>2</th>\n",
              "      <td>0</td>\n",
              "      <td>0</td>\n",
              "      <td>0</td>\n",
              "      <td>0</td>\n",
              "      <td>0</td>\n",
              "      <td>0</td>\n",
              "      <td>0</td>\n",
              "      <td>0</td>\n",
              "      <td>0</td>\n",
              "      <td>0</td>\n",
              "      <td>0</td>\n",
              "      <td>0</td>\n",
              "      <td>0</td>\n",
              "      <td>0</td>\n",
              "      <td>0</td>\n",
              "      <td>0</td>\n",
              "      <td>0</td>\n",
              "      <td>0</td>\n",
              "      <td>0</td>\n",
              "      <td>0</td>\n",
              "      <td>0</td>\n",
              "      <td>0</td>\n",
              "      <td>0</td>\n",
              "      <td>0</td>\n",
              "      <td>0</td>\n",
              "      <td>0</td>\n",
              "      <td>0</td>\n",
              "      <td>0</td>\n",
              "    </tr>\n",
              "  </tbody>\n",
              "</table>\n",
              "</div>"
            ],
            "text/plain": [
              "   JJ  NNP  WRB  TO  IN  VBN  RP  VBP  ...  PRP$  VBZ  FW  RBR  EX  DT  VBG  NN\n",
              "0   0    0    0   0   0    0   0    0  ...     0    0   0    0   0   0    0   0\n",
              "1   0    0    0   0   0    0   0    0  ...     0    0   0    0   0   0    0   0\n",
              "2   0    0    0   0   0    0   0    0  ...     0    0   0    0   0   0    0   0\n",
              "\n",
              "[3 rows x 28 columns]"
            ]
          },
          "metadata": {
            "tags": []
          },
          "execution_count": 156
        }
      ]
    },
    {
      "cell_type": "code",
      "metadata": {
        "id": "5BsbRmHxlnIA",
        "colab_type": "code",
        "outputId": "f2834898-79a2-4edc-d871-d971bcb55fa2",
        "colab": {
          "base_uri": "https://localhost:8080/",
          "height": 140
        }
      },
      "source": [
        "df2.iloc[0,1] = UIC_pos_df.iloc[4,1]\n",
        "df2"
      ],
      "execution_count": 0,
      "outputs": [
        {
          "output_type": "execute_result",
          "data": {
            "text/html": [
              "<div>\n",
              "<style scoped>\n",
              "    .dataframe tbody tr th:only-of-type {\n",
              "        vertical-align: middle;\n",
              "    }\n",
              "\n",
              "    .dataframe tbody tr th {\n",
              "        vertical-align: top;\n",
              "    }\n",
              "\n",
              "    .dataframe thead th {\n",
              "        text-align: right;\n",
              "    }\n",
              "</style>\n",
              "<table border=\"1\" class=\"dataframe\">\n",
              "  <thead>\n",
              "    <tr style=\"text-align: right;\">\n",
              "      <th></th>\n",
              "      <th>JJ</th>\n",
              "      <th>NNP</th>\n",
              "      <th>WRB</th>\n",
              "      <th>TO</th>\n",
              "      <th>IN</th>\n",
              "      <th>VBN</th>\n",
              "      <th>RP</th>\n",
              "      <th>VBP</th>\n",
              "      <th>NNPS</th>\n",
              "      <th>JJS</th>\n",
              "      <th>NNS</th>\n",
              "      <th>JJR</th>\n",
              "      <th>RB</th>\n",
              "      <th>VB</th>\n",
              "      <th>MD</th>\n",
              "      <th>CD</th>\n",
              "      <th>CC</th>\n",
              "      <th>VBD</th>\n",
              "      <th>WP</th>\n",
              "      <th>PRP</th>\n",
              "      <th>PRP$</th>\n",
              "      <th>VBZ</th>\n",
              "      <th>FW</th>\n",
              "      <th>RBR</th>\n",
              "      <th>EX</th>\n",
              "      <th>DT</th>\n",
              "      <th>VBG</th>\n",
              "      <th>NN</th>\n",
              "    </tr>\n",
              "  </thead>\n",
              "  <tbody>\n",
              "    <tr>\n",
              "      <th>0</th>\n",
              "      <td>0</td>\n",
              "      <td>1</td>\n",
              "      <td>0</td>\n",
              "      <td>0</td>\n",
              "      <td>0</td>\n",
              "      <td>0</td>\n",
              "      <td>0</td>\n",
              "      <td>0</td>\n",
              "      <td>0</td>\n",
              "      <td>0</td>\n",
              "      <td>0</td>\n",
              "      <td>0</td>\n",
              "      <td>0</td>\n",
              "      <td>0</td>\n",
              "      <td>0</td>\n",
              "      <td>0</td>\n",
              "      <td>0</td>\n",
              "      <td>0</td>\n",
              "      <td>0</td>\n",
              "      <td>0</td>\n",
              "      <td>0</td>\n",
              "      <td>0</td>\n",
              "      <td>0</td>\n",
              "      <td>0</td>\n",
              "      <td>0</td>\n",
              "      <td>0</td>\n",
              "      <td>0</td>\n",
              "      <td>0</td>\n",
              "    </tr>\n",
              "    <tr>\n",
              "      <th>1</th>\n",
              "      <td>0</td>\n",
              "      <td>0</td>\n",
              "      <td>0</td>\n",
              "      <td>0</td>\n",
              "      <td>0</td>\n",
              "      <td>0</td>\n",
              "      <td>0</td>\n",
              "      <td>0</td>\n",
              "      <td>0</td>\n",
              "      <td>0</td>\n",
              "      <td>0</td>\n",
              "      <td>0</td>\n",
              "      <td>0</td>\n",
              "      <td>0</td>\n",
              "      <td>0</td>\n",
              "      <td>0</td>\n",
              "      <td>0</td>\n",
              "      <td>0</td>\n",
              "      <td>0</td>\n",
              "      <td>0</td>\n",
              "      <td>0</td>\n",
              "      <td>0</td>\n",
              "      <td>0</td>\n",
              "      <td>0</td>\n",
              "      <td>0</td>\n",
              "      <td>0</td>\n",
              "      <td>0</td>\n",
              "      <td>0</td>\n",
              "    </tr>\n",
              "    <tr>\n",
              "      <th>2</th>\n",
              "      <td>0</td>\n",
              "      <td>0</td>\n",
              "      <td>0</td>\n",
              "      <td>0</td>\n",
              "      <td>0</td>\n",
              "      <td>0</td>\n",
              "      <td>0</td>\n",
              "      <td>0</td>\n",
              "      <td>0</td>\n",
              "      <td>0</td>\n",
              "      <td>0</td>\n",
              "      <td>0</td>\n",
              "      <td>0</td>\n",
              "      <td>0</td>\n",
              "      <td>0</td>\n",
              "      <td>0</td>\n",
              "      <td>0</td>\n",
              "      <td>0</td>\n",
              "      <td>0</td>\n",
              "      <td>0</td>\n",
              "      <td>0</td>\n",
              "      <td>0</td>\n",
              "      <td>0</td>\n",
              "      <td>0</td>\n",
              "      <td>0</td>\n",
              "      <td>0</td>\n",
              "      <td>0</td>\n",
              "      <td>0</td>\n",
              "    </tr>\n",
              "  </tbody>\n",
              "</table>\n",
              "</div>"
            ],
            "text/plain": [
              "   JJ  NNP  WRB  TO  IN  VBN  RP  VBP  ...  PRP$  VBZ  FW  RBR  EX  DT  VBG  NN\n",
              "0   0    1    0   0   0    0   0    0  ...     0    0   0    0   0   0    0   0\n",
              "1   0    0    0   0   0    0   0    0  ...     0    0   0    0   0   0    0   0\n",
              "2   0    0    0   0   0    0   0    0  ...     0    0   0    0   0   0    0   0\n",
              "\n",
              "[3 rows x 28 columns]"
            ]
          },
          "metadata": {
            "tags": []
          },
          "execution_count": 158
        }
      ]
    },
    {
      "cell_type": "code",
      "metadata": {
        "id": "1XZTqzw3fypK",
        "colab_type": "code",
        "colab": {}
      },
      "source": [
        "#creating the word vector for the UIC\n",
        "\n",
        "for i in range(len(uniq)):\n",
        " for j in range(len(UIC_pos_df)):\n",
        "  if UIC_pos_df.iloc[j,0] == uniq[i]:\n",
        "   df2.iloc[0,i] = UIC_pos_df.iloc[j,1]"
      ],
      "execution_count": 0,
      "outputs": []
    },
    {
      "cell_type": "code",
      "metadata": {
        "id": "peaP8WrcpNxu",
        "colab_type": "code",
        "colab": {}
      },
      "source": [
        "#creating the word vector for the Nytimes\n",
        "\n",
        "for i in range(len(uniq)):\n",
        " for j in range(len(Nytimes_pos_df)):\n",
        "  if Nytimes_pos_df.iloc[j,0] == uniq[i]:\n",
        "   df2.iloc[1,i] = Nytimes_pos_df.iloc[j,1]"
      ],
      "execution_count": 0,
      "outputs": []
    },
    {
      "cell_type": "code",
      "metadata": {
        "id": "TJxQf3klpvp3",
        "colab_type": "code",
        "colab": {}
      },
      "source": [
        "#creating the word vector for the ESPN\n",
        "\n",
        "for i in range(len(uniq)):\n",
        " for j in range(len(Espn_pos_df)):\n",
        "  if Espn_pos_df.iloc[j,0] == uniq[i]:\n",
        "   df2.iloc[2,i] = Espn_pos_df.iloc[j,1]"
      ],
      "execution_count": 0,
      "outputs": []
    },
    {
      "cell_type": "code",
      "metadata": {
        "id": "sfrJF0tFmDFm",
        "colab_type": "code",
        "outputId": "1d5eacf1-75dd-4bfa-af30-12bf683b85e6",
        "colab": {
          "base_uri": "https://localhost:8080/",
          "height": 140
        }
      },
      "source": [
        "df2.rename(index={0: 'UIC', 1: 'NYtimes',2: 'ESPN'}, inplace=True)"
      ],
      "execution_count": 0,
      "outputs": [
        {
          "output_type": "execute_result",
          "data": {
            "text/html": [
              "<div>\n",
              "<style scoped>\n",
              "    .dataframe tbody tr th:only-of-type {\n",
              "        vertical-align: middle;\n",
              "    }\n",
              "\n",
              "    .dataframe tbody tr th {\n",
              "        vertical-align: top;\n",
              "    }\n",
              "\n",
              "    .dataframe thead th {\n",
              "        text-align: right;\n",
              "    }\n",
              "</style>\n",
              "<table border=\"1\" class=\"dataframe\">\n",
              "  <thead>\n",
              "    <tr style=\"text-align: right;\">\n",
              "      <th></th>\n",
              "      <th>JJ</th>\n",
              "      <th>NNP</th>\n",
              "      <th>WRB</th>\n",
              "      <th>TO</th>\n",
              "      <th>IN</th>\n",
              "      <th>VBN</th>\n",
              "      <th>RP</th>\n",
              "      <th>VBP</th>\n",
              "      <th>NNPS</th>\n",
              "      <th>JJS</th>\n",
              "      <th>NNS</th>\n",
              "      <th>JJR</th>\n",
              "      <th>RB</th>\n",
              "      <th>VB</th>\n",
              "      <th>MD</th>\n",
              "      <th>CD</th>\n",
              "      <th>CC</th>\n",
              "      <th>VBD</th>\n",
              "      <th>WP</th>\n",
              "      <th>PRP</th>\n",
              "      <th>PRP$</th>\n",
              "      <th>VBZ</th>\n",
              "      <th>FW</th>\n",
              "      <th>RBR</th>\n",
              "      <th>EX</th>\n",
              "      <th>DT</th>\n",
              "      <th>VBG</th>\n",
              "      <th>NN</th>\n",
              "    </tr>\n",
              "  </thead>\n",
              "  <tbody>\n",
              "    <tr>\n",
              "      <th>UIC</th>\n",
              "      <td>282</td>\n",
              "      <td>1984</td>\n",
              "      <td>1</td>\n",
              "      <td>4</td>\n",
              "      <td>76</td>\n",
              "      <td>32</td>\n",
              "      <td>1</td>\n",
              "      <td>59</td>\n",
              "      <td>27</td>\n",
              "      <td>14</td>\n",
              "      <td>273</td>\n",
              "      <td>7</td>\n",
              "      <td>58</td>\n",
              "      <td>15</td>\n",
              "      <td>6</td>\n",
              "      <td>27</td>\n",
              "      <td>1</td>\n",
              "      <td>135</td>\n",
              "      <td>1</td>\n",
              "      <td>15</td>\n",
              "      <td>1</td>\n",
              "      <td>36</td>\n",
              "      <td>1</td>\n",
              "      <td>1</td>\n",
              "      <td>4</td>\n",
              "      <td>67</td>\n",
              "      <td>53</td>\n",
              "      <td>485</td>\n",
              "    </tr>\n",
              "    <tr>\n",
              "      <th>NYtimes</th>\n",
              "      <td>0</td>\n",
              "      <td>0</td>\n",
              "      <td>0</td>\n",
              "      <td>0</td>\n",
              "      <td>0</td>\n",
              "      <td>0</td>\n",
              "      <td>0</td>\n",
              "      <td>0</td>\n",
              "      <td>0</td>\n",
              "      <td>0</td>\n",
              "      <td>0</td>\n",
              "      <td>0</td>\n",
              "      <td>0</td>\n",
              "      <td>0</td>\n",
              "      <td>0</td>\n",
              "      <td>0</td>\n",
              "      <td>0</td>\n",
              "      <td>0</td>\n",
              "      <td>0</td>\n",
              "      <td>0</td>\n",
              "      <td>0</td>\n",
              "      <td>0</td>\n",
              "      <td>0</td>\n",
              "      <td>0</td>\n",
              "      <td>0</td>\n",
              "      <td>0</td>\n",
              "      <td>0</td>\n",
              "      <td>0</td>\n",
              "    </tr>\n",
              "    <tr>\n",
              "      <th>ESPN</th>\n",
              "      <td>0</td>\n",
              "      <td>0</td>\n",
              "      <td>0</td>\n",
              "      <td>0</td>\n",
              "      <td>0</td>\n",
              "      <td>0</td>\n",
              "      <td>0</td>\n",
              "      <td>0</td>\n",
              "      <td>0</td>\n",
              "      <td>0</td>\n",
              "      <td>0</td>\n",
              "      <td>0</td>\n",
              "      <td>0</td>\n",
              "      <td>0</td>\n",
              "      <td>0</td>\n",
              "      <td>0</td>\n",
              "      <td>0</td>\n",
              "      <td>0</td>\n",
              "      <td>0</td>\n",
              "      <td>0</td>\n",
              "      <td>0</td>\n",
              "      <td>0</td>\n",
              "      <td>0</td>\n",
              "      <td>0</td>\n",
              "      <td>0</td>\n",
              "      <td>0</td>\n",
              "      <td>0</td>\n",
              "      <td>0</td>\n",
              "    </tr>\n",
              "  </tbody>\n",
              "</table>\n",
              "</div>"
            ],
            "text/plain": [
              "          JJ   NNP  WRB  TO  IN  VBN  RP  ...  VBZ  FW  RBR  EX  DT  VBG   NN\n",
              "UIC      282  1984    1   4  76   32   1  ...   36   1    1   4  67   53  485\n",
              "NYtimes    0     0    0   0   0    0   0  ...    0   0    0   0   0    0    0\n",
              "ESPN       0     0    0   0   0    0   0  ...    0   0    0   0   0    0    0\n",
              "\n",
              "[3 rows x 28 columns]"
            ]
          },
          "metadata": {
            "tags": []
          },
          "execution_count": 168
        }
      ]
    },
    {
      "cell_type": "code",
      "metadata": {
        "id": "2qfH2LHOpe9S",
        "colab_type": "code",
        "outputId": "9fefdf58-43c7-4146-8dc1-a9e5bcf29e34",
        "colab": {
          "base_uri": "https://localhost:8080/",
          "height": 140
        }
      },
      "source": [
        "def computeTF(wordDict, bagOfWords):\n",
        "    tfDict = {}\n",
        "    bagOfWordsCount = len(bagOfWords)\n",
        "    for word, count in wordDict.items():\n",
        "        tfDict[word] = count / float(bagOfWordsCount)\n",
        "    return tfDict"
      ],
      "execution_count": 0,
      "outputs": [
        {
          "output_type": "execute_result",
          "data": {
            "text/html": [
              "<div>\n",
              "<style scoped>\n",
              "    .dataframe tbody tr th:only-of-type {\n",
              "        vertical-align: middle;\n",
              "    }\n",
              "\n",
              "    .dataframe tbody tr th {\n",
              "        vertical-align: top;\n",
              "    }\n",
              "\n",
              "    .dataframe thead th {\n",
              "        text-align: right;\n",
              "    }\n",
              "</style>\n",
              "<table border=\"1\" class=\"dataframe\">\n",
              "  <thead>\n",
              "    <tr style=\"text-align: right;\">\n",
              "      <th></th>\n",
              "      <th>JJ</th>\n",
              "      <th>NNP</th>\n",
              "      <th>WRB</th>\n",
              "      <th>TO</th>\n",
              "      <th>IN</th>\n",
              "      <th>VBN</th>\n",
              "      <th>RP</th>\n",
              "      <th>VBP</th>\n",
              "      <th>NNPS</th>\n",
              "      <th>JJS</th>\n",
              "      <th>NNS</th>\n",
              "      <th>JJR</th>\n",
              "      <th>RB</th>\n",
              "      <th>VB</th>\n",
              "      <th>MD</th>\n",
              "      <th>CD</th>\n",
              "      <th>CC</th>\n",
              "      <th>VBD</th>\n",
              "      <th>WP</th>\n",
              "      <th>PRP</th>\n",
              "      <th>PRP$</th>\n",
              "      <th>VBZ</th>\n",
              "      <th>FW</th>\n",
              "      <th>RBR</th>\n",
              "      <th>EX</th>\n",
              "      <th>DT</th>\n",
              "      <th>VBG</th>\n",
              "      <th>NN</th>\n",
              "    </tr>\n",
              "  </thead>\n",
              "  <tbody>\n",
              "    <tr>\n",
              "      <th>UIC</th>\n",
              "      <td>282</td>\n",
              "      <td>1984</td>\n",
              "      <td>1</td>\n",
              "      <td>4</td>\n",
              "      <td>76</td>\n",
              "      <td>32</td>\n",
              "      <td>1</td>\n",
              "      <td>59</td>\n",
              "      <td>27</td>\n",
              "      <td>14</td>\n",
              "      <td>273</td>\n",
              "      <td>7</td>\n",
              "      <td>58</td>\n",
              "      <td>15</td>\n",
              "      <td>6</td>\n",
              "      <td>27</td>\n",
              "      <td>1</td>\n",
              "      <td>135</td>\n",
              "      <td>1</td>\n",
              "      <td>15</td>\n",
              "      <td>1</td>\n",
              "      <td>36</td>\n",
              "      <td>1</td>\n",
              "      <td>1</td>\n",
              "      <td>4</td>\n",
              "      <td>67</td>\n",
              "      <td>53</td>\n",
              "      <td>485</td>\n",
              "    </tr>\n",
              "    <tr>\n",
              "      <th>NYtimes</th>\n",
              "      <td>112</td>\n",
              "      <td>138</td>\n",
              "      <td>0</td>\n",
              "      <td>1</td>\n",
              "      <td>14</td>\n",
              "      <td>19</td>\n",
              "      <td>3</td>\n",
              "      <td>31</td>\n",
              "      <td>8</td>\n",
              "      <td>1</td>\n",
              "      <td>83</td>\n",
              "      <td>2</td>\n",
              "      <td>40</td>\n",
              "      <td>13</td>\n",
              "      <td>9</td>\n",
              "      <td>7</td>\n",
              "      <td>9</td>\n",
              "      <td>73</td>\n",
              "      <td>0</td>\n",
              "      <td>22</td>\n",
              "      <td>2</td>\n",
              "      <td>3</td>\n",
              "      <td>0</td>\n",
              "      <td>2</td>\n",
              "      <td>0</td>\n",
              "      <td>7</td>\n",
              "      <td>48</td>\n",
              "      <td>147</td>\n",
              "    </tr>\n",
              "    <tr>\n",
              "      <th>ESPN</th>\n",
              "      <td>79</td>\n",
              "      <td>152</td>\n",
              "      <td>0</td>\n",
              "      <td>0</td>\n",
              "      <td>21</td>\n",
              "      <td>15</td>\n",
              "      <td>0</td>\n",
              "      <td>25</td>\n",
              "      <td>3</td>\n",
              "      <td>3</td>\n",
              "      <td>42</td>\n",
              "      <td>2</td>\n",
              "      <td>43</td>\n",
              "      <td>10</td>\n",
              "      <td>3</td>\n",
              "      <td>15</td>\n",
              "      <td>6</td>\n",
              "      <td>70</td>\n",
              "      <td>0</td>\n",
              "      <td>19</td>\n",
              "      <td>1</td>\n",
              "      <td>9</td>\n",
              "      <td>0</td>\n",
              "      <td>3</td>\n",
              "      <td>0</td>\n",
              "      <td>11</td>\n",
              "      <td>30</td>\n",
              "      <td>184</td>\n",
              "    </tr>\n",
              "  </tbody>\n",
              "</table>\n",
              "</div>"
            ],
            "text/plain": [
              "          JJ   NNP  WRB  TO  IN  VBN  RP  ...  VBZ  FW  RBR  EX  DT  VBG   NN\n",
              "UIC      282  1984    1   4  76   32   1  ...   36   1    1   4  67   53  485\n",
              "NYtimes  112   138    0   1  14   19   3  ...    3   0    2   0   7   48  147\n",
              "ESPN      79   152    0   0  21   15   0  ...    9   0    3   0  11   30  184\n",
              "\n",
              "[3 rows x 28 columns]"
            ]
          },
          "metadata": {
            "tags": []
          },
          "execution_count": 173
        }
      ]
    },
    {
      "cell_type": "code",
      "metadata": {
        "id": "-tjkMsc4v2bB",
        "colab_type": "code",
        "colab": {}
      },
      "source": [
        "#counting the words for each docuemnt\n",
        "\n",
        "words_count_UIC = 0\n",
        "words_count_Nytimes = 0\n",
        "words_count_ESPN = 0\n",
        "\n",
        "for i in range(28):\n",
        "  words_count_UIC = words_count_UIC + df2.iloc[0,i]\n",
        "  words_count_Nytimes = words_count_Nytimes + df2.iloc[1,i]\n",
        "  words_count_ESPN = words_count_ESPN + df2.iloc[2,i]\n",
        "\n"
      ],
      "execution_count": 0,
      "outputs": []
    },
    {
      "cell_type": "code",
      "metadata": {
        "id": "CwddZ60dxaTt",
        "colab_type": "code",
        "colab": {}
      },
      "source": [
        "#finding idf for the weord vector\n",
        "\n",
        "for i in range(28):\n",
        "  if df.iloc[,i]>0:\n",
        "    \n"
      ],
      "execution_count": 0,
      "outputs": []
    },
    {
      "cell_type": "markdown",
      "metadata": {
        "id": "QD-dewl8NGMx",
        "colab_type": "text"
      },
      "source": [
        "**Word embedding**"
      ]
    },
    {
      "cell_type": "code",
      "metadata": {
        "id": "-Nv9QlMaNFaJ",
        "colab_type": "code",
        "outputId": "eae41fc4-fdac-4608-df50-c0b05ffef10c",
        "colab": {
          "base_uri": "https://localhost:8080/",
          "height": 450
        }
      },
      "source": [
        "!wget http://nlp.stanford.edu/data/glove.6B.zip\n",
        "!unzip glove.6B.zip"
      ],
      "execution_count": 0,
      "outputs": [
        {
          "output_type": "stream",
          "text": [
            "--2020-03-18 00:46:08--  http://nlp.stanford.edu/data/glove.6B.zip\n",
            "Resolving nlp.stanford.edu (nlp.stanford.edu)... 171.64.67.140\n",
            "Connecting to nlp.stanford.edu (nlp.stanford.edu)|171.64.67.140|:80... connected.\n",
            "HTTP request sent, awaiting response... 302 Found\n",
            "Location: https://nlp.stanford.edu/data/glove.6B.zip [following]\n",
            "--2020-03-18 00:46:08--  https://nlp.stanford.edu/data/glove.6B.zip\n",
            "Connecting to nlp.stanford.edu (nlp.stanford.edu)|171.64.67.140|:443... connected.\n",
            "HTTP request sent, awaiting response... 301 Moved Permanently\n",
            "Location: http://downloads.cs.stanford.edu/nlp/data/glove.6B.zip [following]\n",
            "--2020-03-18 00:46:09--  http://downloads.cs.stanford.edu/nlp/data/glove.6B.zip\n",
            "Resolving downloads.cs.stanford.edu (downloads.cs.stanford.edu)... 171.64.64.22\n",
            "Connecting to downloads.cs.stanford.edu (downloads.cs.stanford.edu)|171.64.64.22|:80... connected.\n",
            "HTTP request sent, awaiting response... 200 OK\n",
            "Length: 862182613 (822M) [application/zip]\n",
            "Saving to: ‘glove.6B.zip’\n",
            "\n",
            "glove.6B.zip        100%[===================>] 822.24M  1.88MB/s    in 6m 28s  \n",
            "\n",
            "2020-03-18 00:52:37 (2.12 MB/s) - ‘glove.6B.zip’ saved [862182613/862182613]\n",
            "\n",
            "Archive:  glove.6B.zip\n",
            "  inflating: glove.6B.50d.txt        \n",
            "  inflating: glove.6B.100d.txt       \n",
            "  inflating: glove.6B.200d.txt       \n",
            "  inflating: glove.6B.300d.txt       \n"
          ],
          "name": "stdout"
        }
      ]
    },
    {
      "cell_type": "code",
      "metadata": {
        "id": "Oxah_9-s9r7n",
        "colab_type": "code",
        "colab": {}
      },
      "source": [
        "# with open(\"glove.6B.50d.txt\", \"rb\") as lines:\n",
        "#     w2v = {line.split()[0]: np.array(map(float, line.split()[1:]))\n",
        "#            for line in lines}"
      ],
      "execution_count": 0,
      "outputs": []
    },
    {
      "cell_type": "code",
      "metadata": {
        "id": "xVkdq3oy_BkN",
        "colab_type": "code",
        "colab": {}
      },
      "source": [
        "embeddings_index = {}\n",
        "f = open('glove.6B.100d.txt', encoding =\"utf8\")\n",
        "for line in f:\n",
        "  values = line.split()\n",
        "  word = values[0]\n",
        "  coefs = np.asarray(values[1:],dtype='float32')\n",
        "  embeddings_index[word] = coefs\n",
        "f.close()"
      ],
      "execution_count": 0,
      "outputs": []
    },
    {
      "cell_type": "code",
      "metadata": {
        "id": "ZScdUj7hv_Xa",
        "colab_type": "code",
        "colab": {
          "base_uri": "https://localhost:8080/",
          "height": 34
        },
        "outputId": "08dc20ce-97dd-496a-c494-a5ac3c2b8345"
      },
      "source": [
        "u = embeddings_index['you']\n",
        "embedd_index_UIC['you']=u\n",
        "embedd_index_UIC['you']\n",
        "len(UIC)"
      ],
      "execution_count": 171,
      "outputs": [
        {
          "output_type": "execute_result",
          "data": {
            "text/plain": [
              "1256"
            ]
          },
          "metadata": {
            "tags": []
          },
          "execution_count": 171
        }
      ]
    },
    {
      "cell_type": "code",
      "metadata": {
        "id": "l_PLPoDjjXOK",
        "colab_type": "code",
        "colab": {
          "base_uri": "https://localhost:8080/",
          "height": 34
        },
        "outputId": "34ce256f-f41c-4fba-8185-1680256f1470"
      },
      "source": [
        "embedd_index_UIC = {}\n",
        "for list in UIC:\n",
        "  try:\n",
        "      u= embeddings_index[list] \n",
        "  except KeyError:\n",
        "      1\n",
        "  embedd_index_UIC[list] = u   \n",
        "len(embedd_index_UIC) "
      ],
      "execution_count": 186,
      "outputs": [
        {
          "output_type": "execute_result",
          "data": {
            "text/plain": [
              "1256"
            ]
          },
          "metadata": {
            "tags": []
          },
          "execution_count": 186
        }
      ]
    },
    {
      "cell_type": "code",
      "metadata": {
        "id": "FnIMLTHtxi-W",
        "colab_type": "code",
        "colab": {}
      },
      "source": [
        "\n",
        "UIC_embed_df = pd.DataFrame(embedd_index_UIC).T\n",
        "\n",
        "from sklearn.decomposition import PCA\n",
        "pca = PCA(n_components=2)\n",
        "principalComponents = pca.fit_transform(UIC_embed_df)\n",
        "principalDf = pd.DataFrame(data = principalComponents\n",
        "             , columns = ['principal component 1', 'principal component 2'])\n"
      ],
      "execution_count": 0,
      "outputs": []
    },
    {
      "cell_type": "code",
      "metadata": {
        "id": "jx7o8J02-oUx",
        "colab_type": "code",
        "colab": {}
      },
      "source": [
        "unique_words = []\n",
        "# for i in embedd_index_UIC.keys:\n",
        "#   unique_words.append[i]\n",
        "for word in embedd_index_UIC.keys():\n",
        "    # v=embeddings_index[word]\n",
        "    # cosine=np.dot(u,v)/norm_u/np.linalg.norm(v)\n",
        "    unique_words.append(word)"
      ],
      "execution_count": 0,
      "outputs": []
    },
    {
      "cell_type": "code",
      "metadata": {
        "id": "YYBzoHXm8YlF",
        "colab_type": "code",
        "colab": {
          "base_uri": "https://localhost:8080/",
          "height": 374
        },
        "outputId": "866320fe-aaec-492d-ea44-70e10d0cd173"
      },
      "source": [
        "from sklearn.manifold import TSNE\n",
        "\n",
        "tsne = TSNE(n_components=2, random_state=0, n_iter=5000, perplexity=3)\n",
        "np.set_printoptions(suppress=True)\n",
        "T = tsne.fit_transform(UIC_embed_df)\n",
        "labels = unique_words\n",
        "\n",
        "plt.figure(figsize=(12, 6))\n",
        "plt.scatter(T[:, 0], T[:, 1], c='orange', edgecolors='r')\n",
        "for label, x, y in zip(labels, T[:, 0], T[:, 1]):\n",
        "    plt.annotate(label, xy=(x+1, y+1), xytext=(0, 0), textcoords='offset points')"
      ],
      "execution_count": 192,
      "outputs": [
        {
          "output_type": "display_data",
          "data": {
            "image/png": "[encoded data removed]",
            "text/plain": [
              "<Figure size 864x432 with 1 Axes>"
            ]
          },
          "metadata": {
            "tags": []
          }
        }
      ]
    },
    {
      "cell_type": "code",
      "metadata": {
        "id": "v37HuVUqAuXM",
        "colab_type": "code",
        "colab": {
          "base_uri": "https://localhost:8080/",
          "height": 592
        },
        "outputId": "3988b913-557b-4d9b-bda9-9224fd4269be"
      },
      "source": [
        "\n",
        "from sklearn.decomposition import PCA\n",
        "\n",
        "P = principalComponents\n",
        "plt.figure(figsize=(18, 10))\n",
        "plt.scatter(P[10:40, 0], P[10:40, 1], c='lightgreen', edgecolors='g')\n",
        "for label, x, y in zip(labels, P[10:40, 0], P[10:40, 1]):\n",
        "    plt.annotate(label, xy=(x+0.06, y+0.03), xytext=(0, 0), textcoords='offset points')"
      ],
      "execution_count": 195,
      "outputs": [
        {
          "output_type": "display_data",
          "data": {
            "image/png": "[encoded data removed]",
            "text/plain": [
              "<Figure size 1296x720 with 1 Axes>"
            ]
          },
          "metadata": {
            "tags": []
          }
        }
      ]
    },
    {
      "cell_type": "code",
      "metadata": {
        "id": "nrllQU3jWLRe",
        "colab_type": "code",
        "colab": {}
      },
      "source": [
        "\n",
        "# for list in UIC:\n",
        "#   try:\n",
        "#     u= embeddings_index[list] \n",
        "#   except KeyError:\n",
        "#     print('word not in Glove')\n",
        "#   norm_u = np.linalg.norm(u)\n",
        "#   similarity = []\n",
        "#   similar1 ={}\n",
        "\n",
        "#   try:\n",
        "#    for word in embeddings_index.keys():\n",
        "#     v=embeddings_index[word]\n",
        "#     cosine=np.dot(u,v)/norm_u/np.linalg.norm(v)\n",
        "#     similarity.append((word, cosine))\n",
        "#     print(len(similarity))\n",
        "\n",
        "#     # sorted(similarity,key=lambda x: x[1], reverse=True)[:10]\n",
        "#     similar1[word]= sorted(similarity,key=lambda x: x[1], reverse=True)[:1]\n",
        "#   except KeyError:\n",
        "#     print(1)\n",
        "\n",
        "\n",
        "\n"
      ],
      "execution_count": 0,
      "outputs": []
    },
    {
      "cell_type": "code",
      "metadata": {
        "id": "tq2FehN2NZWB",
        "colab_type": "code",
        "colab": {}
      },
      "source": [
        "# !cd glove && make"
      ],
      "execution_count": 0,
      "outputs": []
    },
    {
      "cell_type": "code",
      "metadata": {
        "id": "vqeZkCggNgEZ",
        "colab_type": "code",
        "colab": {}
      },
      "source": [
        "# !./demo.sh"
      ],
      "execution_count": 0,
      "outputs": []
    },
    {
      "cell_type": "code",
      "metadata": {
        "id": "i-7E3SiIeQIl",
        "colab_type": "code",
        "colab": {}
      },
      "source": [
        "# if uniq[1] == UIC_pos_df.iloc[1,0]:\n",
        "#   print(1)\n",
        "# uniq[0]\n",
        "# # df1.iloc[1,1] =1\n",
        "# #  theta = np.zeros(X.shape[1])\n",
        "# df1= pd.DataFrame(np.zeros(3,28)) \n"
      ],
      "execution_count": 0,
      "outputs": []
    },
    {
      "cell_type": "code",
      "metadata": {
        "id": "lEcvzEE_VU1i",
        "colab_type": "code",
        "colab": {}
      },
      "source": [
        "# documents = [\"UIC_pos_df\", \"Nytimes_pos_df\"]\n",
        "# tfidf = TfidfVectorizer().fit_transform(documents)"
      ],
      "execution_count": 0,
      "outputs": []
    },
    {
      "cell_type": "code",
      "metadata": {
        "id": "hIsmQA-lL13x",
        "colab_type": "code",
        "colab": {}
      },
      "source": [
        "# UIC_tokenized = word_tokenize(file1)\n",
        "# # print(UIC_tokenized)\n",
        "\n",
        "# fdist = FreqDist(UIC_tokenized)\n",
        "# print(fdist)\n",
        "# fdist.most_common(2)\n",
        "# # fdist.plot(40,cumulative=False)\n",
        "# # plt.show()\n",
        "\n",
        "# stop_words=set(stopwords.words(\"english\"))\n",
        "# len(stop_words)\n",
        "\n",
        "# filtered_sent=[]\n",
        "# for w in UIC_tokenized:\n",
        "#     if w not in stop_words:\n",
        "#         filtered_sent.append(w)\n",
        "# # print(\"Filterd Sentence:\",filtered_sent)\n",
        "# # len(UIC_tokenized)\n",
        "# # print(len(filtered_sent))\n",
        "# # print(len(UIC_tokenized))\n",
        "\n",
        "# ps = PorterStemmer()\n",
        "# stemmed_words=[]\n",
        "# for w in filtered_sent:\n",
        "#     stemmed_words.append(ps.stem(w))\n",
        "# # print(\"Stemmed Sentence:\",stemmed_words)\n",
        "\n",
        "# lemmatizer = WordNetLemmatizer()\n",
        "# lemma_sample_text = []\n",
        "# for w in filtered_sent:\n",
        "#     lemma_sample_text.append(lemmatizer.lemmatize(w))\n",
        "# # print(lemma_sample_text)\n",
        "\n",
        "\n",
        "\n"
      ],
      "execution_count": 0,
      "outputs": []
    },
    {
      "cell_type": "code",
      "metadata": {
        "id": "Ajek3q1JL13z",
        "colab_type": "code",
        "colab": {}
      },
      "source": [
        ""
      ],
      "execution_count": 0,
      "outputs": []
    }
  ]
}