{
  "nbformat": 4,
  "nbformat_minor": 0,
  "metadata": {
    "kernelspec": {
      "display_name": "Python 3",
      "language": "python",
      "name": "python3"
    },
    "language_info": {
      "codemirror_mode": {
        "name": "ipython",
        "version": 3
      },
      "file_extension": ".py",
      "mimetype": "text/x-python",
      "name": "python",
      "nbconvert_exporter": "python",
      "pygments_lexer": "ipython3",
      "version": "3.7.4"
    },
    "colab": {
      "name": "POS tagging and Word embedding.ipynb",
      "provenance": [],
      "collapsed_sections": [],
      "toc_visible": true,
      "include_colab_link": true
    }
  },
  "cells": [
    {
      "cell_type": "markdown",
      "metadata": {
        "id": "view-in-github",
        "colab_type": "text"
      },
      "source": [
        "<a href=\"https://colab.research.google.com/github/ShivaNavya/Word-embedding/blob/master/TF%20IDF%20for%20POS%20tags%20and%20Word%20embedding.ipynb\" target=\"_parent\"><img src=\"https://colab.research.google.com/assets/colab-badge.svg\" alt=\"Open In Colab\"/></a>"
      ]
    },
    {
      "cell_type": "code",
      "metadata": {
        "id": "KGERNDPxL127",
        "colab_type": "code",
        "outputId": "18484790-fd8a-4629-8141-987e96950c92",
        "colab": {
          "base_uri": "https://localhost:8080/",
          "height": 173
        }
      },
      "source": [
        "import nltk\n",
        "from nltk.tokenize import word_tokenize\n",
        "from nltk.probability import FreqDist\n",
        "import matplotlib.pyplot as plt\n",
        "nltk.download('stopwords')\n",
        "from nltk.corpus import stopwords\n",
        "from nltk.stem import PorterStemmer\n",
        "from nltk.stem import WordNetLemmatizer\n",
        "nltk.download('wordnet')\n",
        "from sklearn.feature_extraction.text import CountVectorizer\n",
        "from nltk.tokenize import RegexpTokenizer\n",
        "import string\n",
        "import re\n",
        "nltk.download('punkt')\n",
        "nltk.download('averaged_perceptron_tagger')\n",
        "import os\n",
        "import pandas as pd\n",
        "import numpy as np\n",
        "from sklearn.feature_extraction.text import TfidfVectorizer"
      ],
      "execution_count": 5,
      "outputs": [
        {
          "output_type": "stream",
          "text": [
            "[nltk_data] Downloading package stopwords to /root/nltk_data...\n",
            "[nltk_data]   Unzipping corpora/stopwords.zip.\n",
            "[nltk_data] Downloading package wordnet to /root/nltk_data...\n",
            "[nltk_data]   Unzipping corpora/wordnet.zip.\n",
            "[nltk_data] Downloading package punkt to /root/nltk_data...\n",
            "[nltk_data]   Unzipping tokenizers/punkt.zip.\n",
            "[nltk_data] Downloading package averaged_perceptron_tagger to\n",
            "[nltk_data]     /root/nltk_data...\n",
            "[nltk_data]   Unzipping taggers/averaged_perceptron_tagger.zip.\n"
          ],
          "name": "stdout"
        }
      ]
    },
    {
      "cell_type": "code",
      "metadata": {
        "id": "EcUHX1pXTJJS",
        "colab_type": "code",
        "outputId": "6df41143-4f5b-4831-f25f-83748235b217",
        "colab": {
          "base_uri": "https://localhost:8080/",
          "height": 123
        }
      },
      "source": [
        "from google.colab import drive\n",
        "drive.mount('/content/drive')"
      ],
      "execution_count": 6,
      "outputs": [
        {
          "output_type": "stream",
          "text": [
            "Go to this URL in a browser: https://accounts.google.com/o/oauth2/auth?client_id=947318989803-6bn6qk8qdgf4n4g3pfee6491hc0brc4i.apps.googleusercontent.com&redirect_uri=urn%3aietf%3awg%3aoauth%3a2.0%3aoob&response_type=code&scope=email%20https%3a%2f%2fwww.googleapis.com%2fauth%2fdocs.test%20https%3a%2f%2fwww.googleapis.com%2fauth%2fdrive%20https%3a%2f%2fwww.googleapis.com%2fauth%2fdrive.photos.readonly%20https%3a%2f%2fwww.googleapis.com%2fauth%2fpeopleapi.readonly\n",
            "\n",
            "Enter your authorization code:\n",
            "··········\n",
            "Mounted at /content/drive\n"
          ],
          "name": "stdout"
        }
      ]
    },
    {
      "cell_type": "code",
      "metadata": {
        "id": "aOU7JtIBL13W",
        "colab_type": "code",
        "colab": {}
      },
      "source": [
        "os.path.abspath(os.getcwd())\n",
        "os.chdir('/content/drive/My Drive/Colab Notebooks/')"
      ],
      "execution_count": 0,
      "outputs": []
    },
    {
      "cell_type": "markdown",
      "metadata": {
        "id": "jNbw0zPCKaVC",
        "colab_type": "text"
      },
      "source": [
        "**Document cleaning**"
      ]
    },
    {
      "cell_type": "code",
      "metadata": {
        "id": "QBECflvDL13Z",
        "colab_type": "code",
        "colab": {}
      },
      "source": [
        "def fileclean(file):\n",
        "        file = open(file, encoding=\"utf8\")\n",
        "        Lines = file.readlines()\n",
        "\n",
        "\n",
        "        #splitting the text file into lines\n",
        "        words=[]\n",
        "        for line in Lines:\n",
        "            a=line.split()\n",
        "            words.append(a)\n",
        "\n",
        "            \n",
        "        #Unlist the nested lists\n",
        "        flat_list=[]\n",
        "        for sublist in words:\n",
        "            for item in sublist:\n",
        "                flat_list.append(item)\n",
        "        #converting words to lowercase\n",
        "        flat_list = [x.lower() for x in flat_list]\n",
        "\n",
        "\n",
        "        #remove stopwords         \n",
        "        filtered_words = [word for word in flat_list if word not in stopwords.words('english')]\n",
        "\n",
        "        #remove the punctuation\n",
        "        #source: https://www.tutorialspoint.com/python/string_translate.htm\n",
        "\n",
        "        list_withoutpunct=[]\n",
        "        b=[]\n",
        "        for item in filtered_words:\n",
        "            b=item.translate(item.maketrans('', '', string.punctuation))\n",
        "            list_withoutpunct.append(b)\n",
        "\n",
        "        # print(str_withoutpunct)\n",
        "\n",
        "        #remove the numbers\n",
        "        numbers=\"1234567890\"\n",
        "        list_withoutnum=[]\n",
        "        c=[]\n",
        "        for item in list_withoutpunct:\n",
        "            c=item.translate(item.maketrans('', '', numbers))\n",
        "            list_withoutnum.append(c)\n",
        "        # print(list_withoutnum)\n",
        "\n",
        "\n",
        "        #remove the whitespace\n",
        "        space= \" \"\n",
        "        blank = \"\"\n",
        "        list_withoutspace=[]\n",
        "        d=[]\n",
        "        for item in list_withoutnum:\n",
        "            if item == space:\n",
        "                list_withoutnum.remove(item)\n",
        "            if item == blank:\n",
        "                list_withoutnum.remove(item)\n",
        "\n",
        "\n",
        "        #removing words with less than 3 length and finding unique words\n",
        "        dict=[]\n",
        "        for word in list_withoutnum:\n",
        "            if len(word)>3:\n",
        "              dict.append(word)\n",
        "\n",
        "        uniqueWords = [] \n",
        "        for i in dict:\n",
        "            if not i in uniqueWords:\n",
        "                    uniqueWords.append(i);    \n",
        "\n",
        "        #using isalpha to remove the symbols if any\n",
        "        list_withoutisalpha=[]\n",
        "\n",
        "        for item in uniqueWords:\n",
        "          if item.isalpha()==True:\n",
        "            list_withoutisalpha.append(item)\n",
        "        #print(list_withoutisalpha)\n",
        "\n",
        "        \n",
        "\n",
        "        return (list_withoutisalpha)\n",
        "\n",
        "\n"
      ],
      "execution_count": 0,
      "outputs": []
    },
    {
      "cell_type": "code",
      "metadata": {
        "id": "wFcxznHzYLtR",
        "colab_type": "code",
        "colab": {}
      },
      "source": [
        "#cleaning of the files\n",
        "\n",
        "UIC = fileclean(\"UIC.txt\")\n",
        "Nytimes=fileclean(\"NYtimes.txt\")\n",
        "ESPN = fileclean(\"ESPN.txt\")\n"
      ],
      "execution_count": 0,
      "outputs": []
    },
    {
      "cell_type": "code",
      "metadata": {
        "id": "c235Uw04L13r",
        "colab_type": "code",
        "colab": {}
      },
      "source": [
        "#Appply POS tagging to each document\n",
        "\n",
        "UIC_tag=nltk.pos_tag(UIC)\n",
        "Nytimes_tag=nltk.pos_tag(Nytimes)\n",
        "ESPN_tag=nltk.pos_tag(ESPN)\n"
      ],
      "execution_count": 0,
      "outputs": []
    },
    {
      "cell_type": "markdown",
      "metadata": {
        "id": "QdXjtxRqRf86",
        "colab_type": "text"
      },
      "source": [
        "**Getting the counts of POS tags for the documents**"
      ]
    },
    {
      "cell_type": "code",
      "metadata": {
        "id": "bLBQkL54Qn1i",
        "colab_type": "code",
        "colab": {}
      },
      "source": [
        "def dict_pos(postagfile):\n",
        "  list_ofpos=[]\n",
        "  for i in range(len(postagfile)):\n",
        "      var=postagfile[i][1]\n",
        "      list_ofpos.append(var) \n",
        "  return list_ofpos\n",
        "\n"
      ],
      "execution_count": 0,
      "outputs": []
    },
    {
      "cell_type": "code",
      "metadata": {
        "id": "eWY0HyQ2WOxj",
        "colab_type": "code",
        "colab": {}
      },
      "source": [
        "#converting the tuple list to dictionary \n",
        "\n",
        "UIC_dict=dict_pos(UIC_tag)\n",
        "Nytimes_dict=dict_pos(Nytimes_tag)\n",
        "Espn_dict=dict_pos(ESPN_tag)"
      ],
      "execution_count": 0,
      "outputs": []
    },
    {
      "cell_type": "markdown",
      "metadata": {
        "id": "LcWnG-O4WQXc",
        "colab_type": "text"
      },
      "source": [
        "**Getting the count of POS tags**"
      ]
    },
    {
      "cell_type": "code",
      "metadata": {
        "id": "3TvYIfeIUKZ7",
        "colab_type": "code",
        "colab": {}
      },
      "source": [
        "def count_POS(filename_poslist):\n",
        "  dataframe = pd.DataFrame(np.array(filename_poslist),columns=list(\"a\"))\n",
        "  dataframe = dataframe.groupby(['a']).size().reset_index(name='count')\n",
        "  return dataframe\n"
      ],
      "execution_count": 0,
      "outputs": []
    },
    {
      "cell_type": "code",
      "metadata": {
        "id": "ZVrGvRn-VcLh",
        "colab_type": "code",
        "colab": {}
      },
      "source": [
        "UIC_pos_df = count_POS(UIC_dict)\n",
        "Nytimes_pos_df = count_POS(Nytimes_dict)\n",
        "Espn_pos_df = count_POS(Espn_dict)"
      ],
      "execution_count": 0,
      "outputs": []
    },
    {
      "cell_type": "code",
      "metadata": {
        "id": "VZE29lzKXs6z",
        "colab_type": "code",
        "outputId": "70720e14-baec-4fa0-aead-0024583249e4",
        "colab": {
          "base_uri": "https://localhost:8080/",
          "height": 140
        }
      },
      "source": [
        "list1=UIC_pos_df.iloc[:,0].tolist()\n",
        "list2=Nytimes_pos_df.iloc[:,0].tolist()\n",
        "list3=Espn_pos_df.iloc[:,0].tolist()\n",
        "\n",
        "uniq = list(set(list1+list2+list3))\n",
        "\n",
        "df1 = pd.DataFrame(columns = uniq)\n",
        "df2 = pd.DataFrame(0,index = np.arange(3),columns=uniq)\n"
      ],
      "execution_count": 112,
      "outputs": [
        {
          "output_type": "execute_result",
          "data": {
            "text/html": [
              "<div>\n",
              "<style scoped>\n",
              "    .dataframe tbody tr th:only-of-type {\n",
              "        vertical-align: middle;\n",
              "    }\n",
              "\n",
              "    .dataframe tbody tr th {\n",
              "        vertical-align: top;\n",
              "    }\n",
              "\n",
              "    .dataframe thead th {\n",
              "        text-align: right;\n",
              "    }\n",
              "</style>\n",
              "<table border=\"1\" class=\"dataframe\">\n",
              "  <thead>\n",
              "    <tr style=\"text-align: right;\">\n",
              "      <th></th>\n",
              "      <th>RB</th>\n",
              "      <th>VBG</th>\n",
              "      <th>DT</th>\n",
              "      <th>RBR</th>\n",
              "      <th>VBP</th>\n",
              "      <th>CD</th>\n",
              "      <th>JJ</th>\n",
              "      <th>VBN</th>\n",
              "      <th>VB</th>\n",
              "      <th>IN</th>\n",
              "      <th>MD</th>\n",
              "      <th>VBD</th>\n",
              "      <th>EX</th>\n",
              "      <th>PRP</th>\n",
              "      <th>JJR</th>\n",
              "      <th>VBZ</th>\n",
              "      <th>JJS</th>\n",
              "      <th>NNP</th>\n",
              "      <th>NN</th>\n",
              "      <th>RP</th>\n",
              "      <th>NNS</th>\n",
              "      <th>FW</th>\n",
              "    </tr>\n",
              "  </thead>\n",
              "  <tbody>\n",
              "    <tr>\n",
              "      <th>0</th>\n",
              "      <td>0</td>\n",
              "      <td>0</td>\n",
              "      <td>0</td>\n",
              "      <td>0</td>\n",
              "      <td>0</td>\n",
              "      <td>0</td>\n",
              "      <td>0</td>\n",
              "      <td>0</td>\n",
              "      <td>0</td>\n",
              "      <td>0</td>\n",
              "      <td>0</td>\n",
              "      <td>0</td>\n",
              "      <td>0</td>\n",
              "      <td>0</td>\n",
              "      <td>0</td>\n",
              "      <td>0</td>\n",
              "      <td>0</td>\n",
              "      <td>0</td>\n",
              "      <td>0</td>\n",
              "      <td>0</td>\n",
              "      <td>0</td>\n",
              "      <td>0</td>\n",
              "    </tr>\n",
              "    <tr>\n",
              "      <th>1</th>\n",
              "      <td>0</td>\n",
              "      <td>0</td>\n",
              "      <td>0</td>\n",
              "      <td>0</td>\n",
              "      <td>0</td>\n",
              "      <td>0</td>\n",
              "      <td>0</td>\n",
              "      <td>0</td>\n",
              "      <td>0</td>\n",
              "      <td>0</td>\n",
              "      <td>0</td>\n",
              "      <td>0</td>\n",
              "      <td>0</td>\n",
              "      <td>0</td>\n",
              "      <td>0</td>\n",
              "      <td>0</td>\n",
              "      <td>0</td>\n",
              "      <td>0</td>\n",
              "      <td>0</td>\n",
              "      <td>0</td>\n",
              "      <td>0</td>\n",
              "      <td>0</td>\n",
              "    </tr>\n",
              "    <tr>\n",
              "      <th>2</th>\n",
              "      <td>0</td>\n",
              "      <td>0</td>\n",
              "      <td>0</td>\n",
              "      <td>0</td>\n",
              "      <td>0</td>\n",
              "      <td>0</td>\n",
              "      <td>0</td>\n",
              "      <td>0</td>\n",
              "      <td>0</td>\n",
              "      <td>0</td>\n",
              "      <td>0</td>\n",
              "      <td>0</td>\n",
              "      <td>0</td>\n",
              "      <td>0</td>\n",
              "      <td>0</td>\n",
              "      <td>0</td>\n",
              "      <td>0</td>\n",
              "      <td>0</td>\n",
              "      <td>0</td>\n",
              "      <td>0</td>\n",
              "      <td>0</td>\n",
              "      <td>0</td>\n",
              "    </tr>\n",
              "  </tbody>\n",
              "</table>\n",
              "</div>"
            ],
            "text/plain": [
              "   RB  VBG  DT  RBR  VBP  CD  JJ  VBN  ...  JJR  VBZ  JJS  NNP  NN  RP  NNS  FW\n",
              "0   0    0   0    0    0   0   0    0  ...    0    0    0    0   0   0    0   0\n",
              "1   0    0   0    0    0   0   0    0  ...    0    0    0    0   0   0    0   0\n",
              "2   0    0   0    0    0   0   0    0  ...    0    0    0    0   0   0    0   0\n",
              "\n",
              "[3 rows x 22 columns]"
            ]
          },
          "metadata": {
            "tags": []
          },
          "execution_count": 112
        }
      ]
    },
    {
      "cell_type": "markdown",
      "metadata": {
        "id": "ijk-uSHIumbc",
        "colab_type": "text"
      },
      "source": [
        "**creating the word vector**"
      ]
    },
    {
      "cell_type": "code",
      "metadata": {
        "id": "1XZTqzw3fypK",
        "colab_type": "code",
        "colab": {}
      },
      "source": [
        "#creating the word vector for the UIC\n",
        "\n",
        "for i in range(len(uniq)):\n",
        " for j in range(len(UIC_pos_df)):\n",
        "  if UIC_pos_df.iloc[j,0] == uniq[i]:\n",
        "   df2.iloc[0,i] = UIC_pos_df.iloc[j,1]"
      ],
      "execution_count": 0,
      "outputs": []
    },
    {
      "cell_type": "code",
      "metadata": {
        "id": "peaP8WrcpNxu",
        "colab_type": "code",
        "colab": {}
      },
      "source": [
        "#creating the word vector for the Nytimes\n",
        "\n",
        "for i in range(len(uniq)):\n",
        " for j in range(len(Nytimes_pos_df)):\n",
        "  if Nytimes_pos_df.iloc[j,0] == uniq[i]:\n",
        "   df2.iloc[1,i] = Nytimes_pos_df.iloc[j,1]"
      ],
      "execution_count": 0,
      "outputs": []
    },
    {
      "cell_type": "code",
      "metadata": {
        "id": "TJxQf3klpvp3",
        "colab_type": "code",
        "colab": {}
      },
      "source": [
        "#creating the word vector for the ESPN\n",
        "\n",
        "for i in range(len(uniq)):\n",
        " for j in range(len(Espn_pos_df)):\n",
        "  if Espn_pos_df.iloc[j,0] == uniq[i]:\n",
        "   df2.iloc[2,i] = Espn_pos_df.iloc[j,1]"
      ],
      "execution_count": 0,
      "outputs": []
    },
    {
      "cell_type": "code",
      "metadata": {
        "id": "sfrJF0tFmDFm",
        "colab_type": "code",
        "colab": {}
      },
      "source": [
        "df2.rename(index={0: 'UIC', 1: 'NYtimes',2: 'ESPN'}, inplace=True)"
      ],
      "execution_count": 0,
      "outputs": []
    },
    {
      "cell_type": "code",
      "metadata": {
        "id": "2qfH2LHOpe9S",
        "colab_type": "code",
        "outputId": "b88e16d2-f32d-4f31-abf9-8ed32e9057d2",
        "colab": {
          "base_uri": "https://localhost:8080/",
          "height": 140
        }
      },
      "source": [
        "def computeTF(wordDict, bagOfWords):\n",
        "    tfDict = {}\n",
        "    bagOfWordsCount = len(bagOfWords)\n",
        "    for word, count in wordDict.items():\n",
        "        tfDict[word] = count / float(bagOfWordsCount)\n",
        "    return tfDict\n",
        "df2()"
      ],
      "execution_count": 22,
      "outputs": [
        {
          "output_type": "execute_result",
          "data": {
            "text/html": [
              "<div>\n",
              "<style scoped>\n",
              "    .dataframe tbody tr th:only-of-type {\n",
              "        vertical-align: middle;\n",
              "    }\n",
              "\n",
              "    .dataframe tbody tr th {\n",
              "        vertical-align: top;\n",
              "    }\n",
              "\n",
              "    .dataframe thead th {\n",
              "        text-align: right;\n",
              "    }\n",
              "</style>\n",
              "<table border=\"1\" class=\"dataframe\">\n",
              "  <thead>\n",
              "    <tr style=\"text-align: right;\">\n",
              "      <th></th>\n",
              "      <th>RB</th>\n",
              "      <th>VBG</th>\n",
              "      <th>DT</th>\n",
              "      <th>RBR</th>\n",
              "      <th>VBP</th>\n",
              "      <th>CD</th>\n",
              "      <th>JJ</th>\n",
              "      <th>VBN</th>\n",
              "      <th>VB</th>\n",
              "      <th>IN</th>\n",
              "      <th>MD</th>\n",
              "      <th>VBD</th>\n",
              "      <th>EX</th>\n",
              "      <th>PRP</th>\n",
              "      <th>JJR</th>\n",
              "      <th>VBZ</th>\n",
              "      <th>JJS</th>\n",
              "      <th>NNP</th>\n",
              "      <th>NN</th>\n",
              "      <th>RP</th>\n",
              "      <th>NNS</th>\n",
              "      <th>FW</th>\n",
              "    </tr>\n",
              "  </thead>\n",
              "  <tbody>\n",
              "    <tr>\n",
              "      <th>UIC</th>\n",
              "      <td>57</td>\n",
              "      <td>48</td>\n",
              "      <td>2</td>\n",
              "      <td>1</td>\n",
              "      <td>68</td>\n",
              "      <td>7</td>\n",
              "      <td>256</td>\n",
              "      <td>44</td>\n",
              "      <td>7</td>\n",
              "      <td>14</td>\n",
              "      <td>3</td>\n",
              "      <td>64</td>\n",
              "      <td>1</td>\n",
              "      <td>1</td>\n",
              "      <td>7</td>\n",
              "      <td>18</td>\n",
              "      <td>5</td>\n",
              "      <td>5</td>\n",
              "      <td>450</td>\n",
              "      <td>1</td>\n",
              "      <td>201</td>\n",
              "      <td>1</td>\n",
              "    </tr>\n",
              "    <tr>\n",
              "      <th>NYtimes</th>\n",
              "      <td>31</td>\n",
              "      <td>39</td>\n",
              "      <td>1</td>\n",
              "      <td>1</td>\n",
              "      <td>23</td>\n",
              "      <td>2</td>\n",
              "      <td>92</td>\n",
              "      <td>22</td>\n",
              "      <td>3</td>\n",
              "      <td>7</td>\n",
              "      <td>3</td>\n",
              "      <td>31</td>\n",
              "      <td>0</td>\n",
              "      <td>1</td>\n",
              "      <td>2</td>\n",
              "      <td>2</td>\n",
              "      <td>1</td>\n",
              "      <td>0</td>\n",
              "      <td>121</td>\n",
              "      <td>1</td>\n",
              "      <td>62</td>\n",
              "      <td>0</td>\n",
              "    </tr>\n",
              "    <tr>\n",
              "      <th>ESPN</th>\n",
              "      <td>30</td>\n",
              "      <td>25</td>\n",
              "      <td>1</td>\n",
              "      <td>3</td>\n",
              "      <td>18</td>\n",
              "      <td>3</td>\n",
              "      <td>69</td>\n",
              "      <td>18</td>\n",
              "      <td>4</td>\n",
              "      <td>11</td>\n",
              "      <td>3</td>\n",
              "      <td>34</td>\n",
              "      <td>0</td>\n",
              "      <td>0</td>\n",
              "      <td>2</td>\n",
              "      <td>8</td>\n",
              "      <td>2</td>\n",
              "      <td>0</td>\n",
              "      <td>147</td>\n",
              "      <td>0</td>\n",
              "      <td>42</td>\n",
              "      <td>0</td>\n",
              "    </tr>\n",
              "  </tbody>\n",
              "</table>\n",
              "</div>"
            ],
            "text/plain": [
              "         RB  VBG  DT  RBR  VBP  CD   JJ  ...  VBZ  JJS  NNP   NN  RP  NNS  FW\n",
              "UIC      57   48   2    1   68   7  256  ...   18    5    5  450   1  201   1\n",
              "NYtimes  31   39   1    1   23   2   92  ...    2    1    0  121   1   62   0\n",
              "ESPN     30   25   1    3   18   3   69  ...    8    2    0  147   0   42   0\n",
              "\n",
              "[3 rows x 22 columns]"
            ]
          },
          "metadata": {
            "tags": []
          },
          "execution_count": 22
        }
      ]
    },
    {
      "cell_type": "markdown",
      "metadata": {
        "id": "n9-HIK0Lu9J9",
        "colab_type": "text"
      },
      "source": [
        "**Dictionary for each file**"
      ]
    },
    {
      "cell_type": "code",
      "metadata": {
        "id": "svqS1ioWMFjS",
        "colab_type": "code",
        "colab": {
          "base_uri": "https://localhost:8080/",
          "height": 34
        },
        "outputId": "23293034-64f9-4ead-83c3-3cf57ff3490b"
      },
      "source": [
        "\n",
        "\n",
        "wordDictA = df2.T.to_dict()['UIC']\n",
        "wordDictB = df2.T.to_dict()['NYtimes']\n",
        "wordDictC = df2.T.to_dict()['ESPN']\n"
      ],
      "execution_count": 85,
      "outputs": [
        {
          "output_type": "execute_result",
          "data": {
            "text/plain": [
              "1261"
            ]
          },
          "metadata": {
            "tags": []
          },
          "execution_count": 85
        }
      ]
    },
    {
      "cell_type": "markdown",
      "metadata": {
        "id": "tqR12t2gUiHc",
        "colab_type": "text"
      },
      "source": [
        "**writing the TF Function**"
      ]
    },
    {
      "cell_type": "code",
      "metadata": {
        "id": "icy39pdeUgzQ",
        "colab_type": "code",
        "colab": {}
      },
      "source": [
        "\n",
        "\n",
        "def computeTF(wordDict):\n",
        "    tfDict = {}\n",
        "    length = 0\n",
        "    for word, count in wordDictA.items():\n",
        "        length = length + count\n",
        "    \n",
        "    for word, count in wordDict.items():\n",
        "        tfDict[word] = count/float(length)\n",
        "    return(tfDict)\n",
        "#running our sentences through the tf function:\n",
        "tfFirst = computeTF(wordDictA)\n",
        "tfSecond = computeTF(wordDictB)\n",
        "tfThird = computeTF(wordDictC)\n",
        "#Converting to dataframe for visualization\n",
        "tf = pd.DataFrame([tfFirst, tfSecond,tfThird])\n",
        "\n",
        "tf.rename(index={0: 'UIC', 1: 'NYtimes',2: 'ESPN'}, inplace=True)\n"
      ],
      "execution_count": 0,
      "outputs": []
    },
    {
      "cell_type": "markdown",
      "metadata": {
        "id": "_Vgy2eGVpCCf",
        "colab_type": "text"
      },
      "source": [
        "**IDF calculation**\n"
      ]
    },
    {
      "cell_type": "markdown",
      "metadata": {
        "id": "EIgR65fEpmKd",
        "colab_type": "text"
      },
      "source": [
        "![image.png](data:image/png;base64,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)"
      ]
    },
    {
      "cell_type": "code",
      "metadata": {
        "id": "-tjkMsc4v2bB",
        "colab_type": "code",
        "colab": {}
      },
      "source": [
        "\n",
        "\n",
        "def computeIDF(documents):\n",
        "    import math\n",
        "    N = len(documents)\n",
        "    \n",
        "    idfDict = dict.fromkeys(documents[0].keys(), 0)\n",
        "    for document in documents:\n",
        "        for word, val in document.items():\n",
        "            if val > 0:\n",
        "                idfDict[word] += 1\n",
        "    \n",
        "    for word, val in idfDict.items():\n",
        "        idfDict[word] = math.log(N / float(val) + 1)\n",
        "    return idfDict\n",
        "    \n",
        "# #inputing our sentences in the log file\n",
        "idfs = computeIDF([wordDictA, wordDictB, wordDictC])\n"
      ],
      "execution_count": 0,
      "outputs": []
    },
    {
      "cell_type": "markdown",
      "metadata": {
        "id": "h0By7Fctr763",
        "colab_type": "text"
      },
      "source": [
        "**TFIDF calculcation for the documents**"
      ]
    },
    {
      "cell_type": "markdown",
      "metadata": {
        "id": "MmO9QtZkryR6",
        "colab_type": "text"
      },
      "source": [
        "![image.png](data:image/png;base64,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)"
      ]
    },
    {
      "cell_type": "code",
      "metadata": {
        "id": "CwddZ60dxaTt",
        "colab_type": "code",
        "colab": {
          "base_uri": "https://localhost:8080/",
          "height": 160
        },
        "outputId": "14d45eec-10b3-4269-cb46-08a6848d2d25"
      },
      "source": [
        "def computeTFIDF(tfBagOfWords, idfs):\n",
        "    tfidf = {}\n",
        "    for word, val in tfBagOfWords.items():\n",
        "        tfidf[word] = val * idfs[word]\n",
        "    return tfidf\n",
        "\n",
        "#running through the TFIDF function:\n",
        "tfidfFirst = computeTFIDF(tfFirst,idfs)\n",
        "tfidfSecond = computeTFIDF(tfSecond,idfs)\n",
        "tfidfThird = computeTFIDF(tfThird,idfs)\n",
        "\n",
        "#Converting to dataframe for visualization\n",
        "tfidf_df = pd.DataFrame([tfidfFirst, tfidfSecond,tfidfThird])\n",
        "\n",
        "tfidf_df.rename(index={0: 'UIC', 1: 'NYtimes',2: 'ESPN'}, inplace=True)\n",
        "  \n",
        "tfidf_df"
      ],
      "execution_count": 105,
      "outputs": [
        {
          "output_type": "execute_result",
          "data": {
            "text/html": [
              "<div>\n",
              "<style scoped>\n",
              "    .dataframe tbody tr th:only-of-type {\n",
              "        vertical-align: middle;\n",
              "    }\n",
              "\n",
              "    .dataframe tbody tr th {\n",
              "        vertical-align: top;\n",
              "    }\n",
              "\n",
              "    .dataframe thead th {\n",
              "        text-align: right;\n",
              "    }\n",
              "</style>\n",
              "<table border=\"1\" class=\"dataframe\">\n",
              "  <thead>\n",
              "    <tr style=\"text-align: right;\">\n",
              "      <th></th>\n",
              "      <th>RB</th>\n",
              "      <th>VBG</th>\n",
              "      <th>DT</th>\n",
              "      <th>RBR</th>\n",
              "      <th>VBP</th>\n",
              "      <th>CD</th>\n",
              "      <th>JJ</th>\n",
              "      <th>VBN</th>\n",
              "      <th>VB</th>\n",
              "      <th>IN</th>\n",
              "      <th>MD</th>\n",
              "      <th>VBD</th>\n",
              "      <th>EX</th>\n",
              "      <th>PRP</th>\n",
              "      <th>JJR</th>\n",
              "      <th>VBZ</th>\n",
              "      <th>JJS</th>\n",
              "      <th>NNP</th>\n",
              "      <th>NN</th>\n",
              "      <th>RP</th>\n",
              "      <th>NNS</th>\n",
              "      <th>FW</th>\n",
              "    </tr>\n",
              "  </thead>\n",
              "  <tbody>\n",
              "    <tr>\n",
              "      <th>UIC</th>\n",
              "      <td>0.031332</td>\n",
              "      <td>0.026385</td>\n",
              "      <td>0.001099</td>\n",
              "      <td>0.000550</td>\n",
              "      <td>0.037378</td>\n",
              "      <td>0.003848</td>\n",
              "      <td>0.140718</td>\n",
              "      <td>0.024186</td>\n",
              "      <td>0.003848</td>\n",
              "      <td>0.007696</td>\n",
              "      <td>0.001649</td>\n",
              "      <td>0.035180</td>\n",
              "      <td>0.001099</td>\n",
              "      <td>0.000727</td>\n",
              "      <td>0.003848</td>\n",
              "      <td>0.009894</td>\n",
              "      <td>0.002748</td>\n",
              "      <td>0.005497</td>\n",
              "      <td>0.247356</td>\n",
              "      <td>0.000727</td>\n",
              "      <td>0.110486</td>\n",
              "      <td>0.001099</td>\n",
              "    </tr>\n",
              "    <tr>\n",
              "      <th>NYtimes</th>\n",
              "      <td>0.017040</td>\n",
              "      <td>0.021438</td>\n",
              "      <td>0.000550</td>\n",
              "      <td>0.000550</td>\n",
              "      <td>0.012643</td>\n",
              "      <td>0.001099</td>\n",
              "      <td>0.050571</td>\n",
              "      <td>0.012093</td>\n",
              "      <td>0.001649</td>\n",
              "      <td>0.003848</td>\n",
              "      <td>0.001649</td>\n",
              "      <td>0.017040</td>\n",
              "      <td>0.000000</td>\n",
              "      <td>0.000727</td>\n",
              "      <td>0.001099</td>\n",
              "      <td>0.001099</td>\n",
              "      <td>0.000550</td>\n",
              "      <td>0.000000</td>\n",
              "      <td>0.066511</td>\n",
              "      <td>0.000727</td>\n",
              "      <td>0.034080</td>\n",
              "      <td>0.000000</td>\n",
              "    </tr>\n",
              "    <tr>\n",
              "      <th>ESPN</th>\n",
              "      <td>0.016490</td>\n",
              "      <td>0.013742</td>\n",
              "      <td>0.000550</td>\n",
              "      <td>0.001649</td>\n",
              "      <td>0.009894</td>\n",
              "      <td>0.001649</td>\n",
              "      <td>0.037928</td>\n",
              "      <td>0.009894</td>\n",
              "      <td>0.002199</td>\n",
              "      <td>0.006046</td>\n",
              "      <td>0.001649</td>\n",
              "      <td>0.018689</td>\n",
              "      <td>0.000000</td>\n",
              "      <td>0.000000</td>\n",
              "      <td>0.001099</td>\n",
              "      <td>0.004397</td>\n",
              "      <td>0.001099</td>\n",
              "      <td>0.000000</td>\n",
              "      <td>0.080803</td>\n",
              "      <td>0.000000</td>\n",
              "      <td>0.023087</td>\n",
              "      <td>0.000000</td>\n",
              "    </tr>\n",
              "  </tbody>\n",
              "</table>\n",
              "</div>"
            ],
            "text/plain": [
              "               RB       VBG        DT  ...        RP       NNS        FW\n",
              "UIC      0.031332  0.026385  0.001099  ...  0.000727  0.110486  0.001099\n",
              "NYtimes  0.017040  0.021438  0.000550  ...  0.000727  0.034080  0.000000\n",
              "ESPN     0.016490  0.013742  0.000550  ...  0.000000  0.023087  0.000000\n",
              "\n",
              "[3 rows x 22 columns]"
            ]
          },
          "metadata": {
            "tags": []
          },
          "execution_count": 105
        }
      ]
    },
    {
      "cell_type": "markdown",
      "metadata": {
        "id": "QD-dewl8NGMx",
        "colab_type": "text"
      },
      "source": [
        "**Word embedding**"
      ]
    },
    {
      "cell_type": "code",
      "metadata": {
        "id": "-Nv9QlMaNFaJ",
        "colab_type": "code",
        "outputId": "dc1baae9-2c34-4932-9962-3d2fd794037a",
        "colab": {
          "base_uri": "https://localhost:8080/",
          "height": 428
        }
      },
      "source": [
        "!wget http://nlp.stanford.edu/data/glove.6B.zip\n",
        "!unzip glove.6B.zip"
      ],
      "execution_count": 0,
      "outputs": [
        {
          "output_type": "stream",
          "text": [
            "--2020-03-19 07:40:49--  http://nlp.stanford.edu/data/glove.6B.zip\n",
            "Resolving nlp.stanford.edu (nlp.stanford.edu)... 171.64.67.140\n",
            "Connecting to nlp.stanford.edu (nlp.stanford.edu)|171.64.67.140|:80... connected.\n",
            "HTTP request sent, awaiting response... 302 Found\n",
            "Location: https://nlp.stanford.edu/data/glove.6B.zip [following]\n",
            "--2020-03-19 07:40:49--  https://nlp.stanford.edu/data/glove.6B.zip\n",
            "Connecting to nlp.stanford.edu (nlp.stanford.edu)|171.64.67.140|:443... connected.\n",
            "HTTP request sent, awaiting response... 301 Moved Permanently\n",
            "Location: http://downloads.cs.stanford.edu/nlp/data/glove.6B.zip [following]\n",
            "--2020-03-19 07:40:49--  http://downloads.cs.stanford.edu/nlp/data/glove.6B.zip\n",
            "Resolving downloads.cs.stanford.edu (downloads.cs.stanford.edu)... 171.64.64.22\n",
            "Connecting to downloads.cs.stanford.edu (downloads.cs.stanford.edu)|171.64.64.22|:80... connected.\n",
            "HTTP request sent, awaiting response... 200 OK\n",
            "Length: 862182613 (822M) [application/zip]\n",
            "Saving to: ‘glove.6B.zip.1’\n",
            "\n",
            "glove.6B.zip.1      100%[===================>] 822.24M  2.02MB/s    in 6m 28s  \n",
            "\n",
            "2020-03-19 07:47:18 (2.12 MB/s) - ‘glove.6B.zip.1’ saved [862182613/862182613]\n",
            "\n",
            "Archive:  glove.6B.zip\n",
            "replace glove.6B.50d.txt? [y]es, [n]o, [A]ll, [N]one, [r]ename: "
          ],
          "name": "stdout"
        }
      ]
    },
    {
      "cell_type": "code",
      "metadata": {
        "id": "xVkdq3oy_BkN",
        "colab_type": "code",
        "colab": {}
      },
      "source": [
        "embeddings_index = {}\n",
        "f = open('glove.6B.100d.txt', encoding =\"utf8\")\n",
        "for line in f:\n",
        "  values = line.split()\n",
        "  word = values[0]\n",
        "  coefs = np.asarray(values[1:],dtype='float32')\n",
        "  embeddings_index[word] = coefs\n",
        "f.close()"
      ],
      "execution_count": 0,
      "outputs": []
    },
    {
      "cell_type": "code",
      "metadata": {
        "id": "ZScdUj7hv_Xa",
        "colab_type": "code",
        "colab": {}
      },
      "source": [
        "u = embeddings_index['you']\n",
        "embedd_index_UIC['you']=u\n",
        "embedd_index_UIC['you']\n",
        "len(UIC)"
      ],
      "execution_count": 0,
      "outputs": []
    },
    {
      "cell_type": "code",
      "metadata": {
        "id": "l_PLPoDjjXOK",
        "colab_type": "code",
        "colab": {}
      },
      "source": [
        "embedd_index_UIC = {}\n",
        "for list in UIC:\n",
        "  try:\n",
        "      u= embeddings_index[list] \n",
        "  except KeyError:\n",
        "      1\n",
        "  embedd_index_UIC[list] = u   \n",
        "len(embedd_index_UIC) "
      ],
      "execution_count": 0,
      "outputs": []
    },
    {
      "cell_type": "code",
      "metadata": {
        "id": "FnIMLTHtxi-W",
        "colab_type": "code",
        "colab": {}
      },
      "source": [
        "\n",
        "UIC_embed_df = pd.DataFrame(embedd_index_UIC).T\n",
        "\n",
        "from sklearn.decomposition import PCA\n",
        "pca = PCA(n_components=2)\n",
        "principalComponents = pca.fit_transform(UIC_embed_df)\n",
        "principalDf = pd.DataFrame(data = principalComponents\n",
        "             , columns = ['principal component 1', 'principal component 2'])\n"
      ],
      "execution_count": 0,
      "outputs": []
    },
    {
      "cell_type": "code",
      "metadata": {
        "id": "jx7o8J02-oUx",
        "colab_type": "code",
        "colab": {
          "base_uri": "https://localhost:8080/",
          "height": 234
        },
        "outputId": "24992a98-a0e5-4902-d86d-a972775287a7"
      },
      "source": [
        "unique_words = []\n",
        "\n",
        "for word in embedd_index_UIC.keys():\n",
        "    unique_words.append(word)"
      ],
      "execution_count": 114,
      "outputs": [
        {
          "output_type": "error",
          "ename": "NameError",
          "evalue": "ignored",
          "traceback": [
            "\u001b[0;31m---------------------------------------------------------------------------\u001b[0m",
            "\u001b[0;31mNameError\u001b[0m                                 Traceback (most recent call last)",
            "\u001b[0;32m<ipython-input-114-816c32c0a61f>\u001b[0m in \u001b[0;36m<module>\u001b[0;34m()\u001b[0m\n\u001b[1;32m      1\u001b[0m \u001b[0munique_words\u001b[0m \u001b[0;34m=\u001b[0m \u001b[0;34m[\u001b[0m\u001b[0;34m]\u001b[0m\u001b[0;34m\u001b[0m\u001b[0;34m\u001b[0m\u001b[0m\n\u001b[1;32m      2\u001b[0m \u001b[0;34m\u001b[0m\u001b[0m\n\u001b[0;32m----> 3\u001b[0;31m \u001b[0;32mfor\u001b[0m \u001b[0mword\u001b[0m \u001b[0;32min\u001b[0m \u001b[0membedd_index_UIC\u001b[0m\u001b[0;34m.\u001b[0m\u001b[0mkeys\u001b[0m\u001b[0;34m(\u001b[0m\u001b[0;34m)\u001b[0m\u001b[0;34m:\u001b[0m\u001b[0;34m\u001b[0m\u001b[0;34m\u001b[0m\u001b[0m\n\u001b[0m\u001b[1;32m      4\u001b[0m \u001b[0;34m\u001b[0m\u001b[0m\n\u001b[1;32m      5\u001b[0m     \u001b[0munique_words\u001b[0m\u001b[0;34m.\u001b[0m\u001b[0mappend\u001b[0m\u001b[0;34m(\u001b[0m\u001b[0mword\u001b[0m\u001b[0;34m)\u001b[0m\u001b[0;34m\u001b[0m\u001b[0;34m\u001b[0m\u001b[0m\n",
            "\u001b[0;31mNameError\u001b[0m: name 'embedd_index_UIC' is not defined"
          ]
        }
      ]
    },
    {
      "cell_type": "code",
      "metadata": {
        "id": "YYBzoHXm8YlF",
        "colab_type": "code",
        "colab": {}
      },
      "source": [
        "from sklearn.manifold import TSNE\n",
        "\n",
        "tsne = TSNE(n_components=2, random_state=0, n_iter=5000, perplexity=3)\n",
        "np.set_printoptions(suppress=True)\n",
        "T = tsne.fit_transform(UIC_embed_df)\n",
        "labels = unique_words\n",
        "\n",
        "plt.figure(figsize=(12, 6))\n",
        "plt.scatter(T[:, 0], T[:, 1], c='orange', edgecolors='r')\n",
        "for label, x, y in zip(labels, T[:, 0], T[:, 1]):\n",
        "    plt.annotate(label, xy=(x+1, y+1), xytext=(0, 0), textcoords='offset points')"
      ],
      "execution_count": 0,
      "outputs": []
    },
    {
      "cell_type": "code",
      "metadata": {
        "id": "v37HuVUqAuXM",
        "colab_type": "code",
        "colab": {}
      },
      "source": [
        "\n",
        "from sklearn.decomposition import PCA\n",
        "\n",
        "P = principalComponents\n",
        "plt.figure(figsize=(18, 10))\n",
        "plt.scatter(P[10:60, 0], P[10:60, 1], c='lightgreen', edgecolors='g')\n",
        "for label, x, y in zip(labels, P[10:60, 0], P[10:60, 1]):\n",
        "    plt.annotate(label, xy=(x+0.06, y+0.03), xytext=(0, 0), textcoords='offset points')"
      ],
      "execution_count": 0,
      "outputs": []
    },
    {
      "cell_type": "code",
      "metadata": {
        "id": "Ajek3q1JL13z",
        "colab_type": "code",
        "colab": {}
      },
      "source": [
        ""
      ],
      "execution_count": 0,
      "outputs": []
    }
  ]
}